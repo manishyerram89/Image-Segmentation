{
  "cells": [
    {
      "cell_type": "markdown",
      "metadata": {
        "id": "view-in-github",
        "colab_type": "text"
      },
      "source": [
        "<a href=\"https://colab.research.google.com/github/manishyerram89/Image-Segmentation/blob/main/ImageSegmentation.ipynb\" target=\"_parent\"><img src=\"https://colab.research.google.com/assets/colab-badge.svg\" alt=\"Open In Colab\"/></a>"
      ]
    },
    {
      "cell_type": "code",
      "execution_count": null,
      "metadata": {
        "id": "G5m9goFYV5ur"
      },
      "outputs": [],
      "source": [
        "import numpy as np\n",
        "import tensorflow as tf\n",
        "from tensorflow import keras\n",
        "from tensorflow.keras.layers import Input, Conv2D, MaxPooling2D, Dropout, Conv2DTranspose, concatenate"
      ]
    },
    {
      "cell_type": "code",
      "execution_count": null,
      "metadata": {
        "id": "vfMh0OXwV9TV"
      },
      "outputs": [],
      "source": [
        "def generate_synthetic_data(num_samples, image_size=(256, 256)):\n",
        "    x_data = np.random.rand(num_samples, *image_size, 3)\n",
        "    y_data = (x_data.mean(axis=3, keepdims=True) > 0.5).astype(np.float32)  # Generate binary masks\n",
        "    return x_data, y_data\n"
      ]
    },
    {
      "cell_type": "code",
      "execution_count": null,
      "metadata": {
        "id": "3BHc7UKaWFQR"
      },
      "outputs": [],
      "source": [
        "def unet(input_shape=(256, 256, 3)):\n",
        "    inputs = Input(input_shape)\n",
        "\n",
        "    conv1 = Conv2D(64, 3, activation='relu', padding='same')(inputs)\n",
        "    conv1 = Conv2D(64, 3, activation='relu', padding='same')(conv1)\n",
        "    pool1 = MaxPooling2D(pool_size=(2, 2))(conv1)\n",
        "\n",
        "    conv2 = Conv2D(128, 3, activation='relu', padding='same')(pool1)\n",
        "    conv2 = Conv2D(128, 3, activation='relu', padding='same')(conv2)\n",
        "    pool2 = MaxPooling2D(pool_size=(2, 2))(conv2)\n",
        "\n",
        "    conv3 = Conv2D(256, 3, activation='relu', padding='same')(pool2)\n",
        "    conv3 = Conv2D(256, 3, activation='relu', padding='same')(conv3)\n",
        "    pool3 = MaxPooling2D(pool_size=(2, 2))(conv3)\n",
        "\n",
        "    conv4 = Conv2D(512, 3, activation='relu', padding='same')(pool3)\n",
        "    conv4 = Conv2D(512, 3, activation='relu', padding='same')(conv4)\n",
        "    drop4 = Dropout(0.5)(conv4)\n",
        "    pool4 = MaxPooling2D(pool_size=(2, 2))(drop4)\n",
        "\n",
        "    conv5 = Conv2D(1024, 3, activation='relu', padding='same')(pool4)\n",
        "    conv5 = Conv2D(1024, 3, activation='relu', padding='same')(conv5)\n",
        "    drop5 = Dropout(0.5)(conv5)\n",
        "\n",
        "    up6 = Conv2DTranspose(512, 2, strides=(2, 2), padding='same')(drop5)\n",
        "    merge6 = concatenate([drop4, up6], axis=3)\n",
        "    conv6 = Conv2D(512, 3, activation='relu', padding='same')(merge6)\n",
        "    conv6 = Conv2D(512, 3, activation='relu', padding='same')(conv6)\n",
        "\n",
        "    up7 = Conv2DTranspose(256, 2, strides=(2, 2), padding='same')(conv6)\n",
        "    merge7 = concatenate([conv3, up7], axis=3)\n",
        "    conv7 = Conv2D(256, 3, activation='relu', padding='same')(merge7)\n",
        "    conv7 = Conv2D(256, 3, activation='relu', padding='same')(conv7)\n",
        "\n",
        "    up8 = Conv2DTranspose(128, 2, strides=(2, 2), padding='same')(conv7)\n",
        "    merge8 = concatenate([conv2, up8], axis=3)\n",
        "    conv8 = Conv2D(128, 3, activation='relu', padding='same')(merge8)\n",
        "    conv8 = Conv2D(128, 3, activation='relu', padding='same')(conv8)\n",
        "\n",
        "    up9 = Conv2DTranspose(64, 2, strides=(2, 2), padding='same')(conv8)\n",
        "    merge9 = concatenate([conv1, up9], axis=3)\n",
        "    conv9 = Conv2D(64, 3, activation='relu', padding='same')(merge9)\n",
        "    conv9 = Conv2D(64, 3, activation='relu', padding='same')(conv9)\n",
        "\n",
        "    outputs = Conv2D(1, 1, activation='sigmoid')(conv9)\n",
        "\n",
        "    model = keras.Model(inputs=inputs, outputs=outputs)\n",
        "    return model"
      ]
    },
    {
      "cell_type": "code",
      "execution_count": null,
      "metadata": {
        "id": "1m-ZUtRRWIMI"
      },
      "outputs": [],
      "source": [
        "model = unet(input_shape=(256, 256, 3))"
      ]
    },
    {
      "cell_type": "code",
      "execution_count": null,
      "metadata": {
        "id": "WjUmV-KeWKV9"
      },
      "outputs": [],
      "source": [
        "model.compile(optimizer='adam', loss='binary_crossentropy', metrics=['accuracy'])"
      ]
    },
    {
      "cell_type": "code",
      "execution_count": null,
      "metadata": {
        "id": "Xv6-OrdlWMlX"
      },
      "outputs": [],
      "source": [
        "x_train, y_train = generate_synthetic_data(num_samples=100)"
      ]
    },
    {
      "cell_type": "code",
      "execution_count": 7,
      "metadata": {
        "colab": {
          "base_uri": "https://localhost:8080/"
        },
        "id": "JRsQBbH0WP2c",
        "outputId": "118891d2-19ad-413a-8d86-3950a340b5e7"
      },
      "outputs": [
        {
          "output_type": "stream",
          "name": "stdout",
          "text": [
            "Epoch 1/10\n",
            "7/7 [==============================] - 671s 93s/step - loss: 0.6704 - accuracy: 0.6997\n",
            "Epoch 2/10\n",
            "7/7 [==============================] - 658s 92s/step - loss: 0.5356 - accuracy: 0.8279\n",
            "Epoch 3/10\n",
            "7/7 [==============================] - 692s 98s/step - loss: 0.3424 - accuracy: 0.8843\n",
            "Epoch 4/10\n",
            "7/7 [==============================] - 666s 93s/step - loss: 0.2127 - accuracy: 0.9208\n",
            "Epoch 5/10\n",
            "7/7 [==============================] - 669s 93s/step - loss: 0.1519 - accuracy: 0.9379\n",
            "Epoch 6/10\n",
            "7/7 [==============================] - 675s 94s/step - loss: 0.1277 - accuracy: 0.9451\n",
            "Epoch 7/10\n",
            "7/7 [==============================] - 657s 92s/step - loss: 0.1070 - accuracy: 0.9546\n",
            "Epoch 8/10\n",
            "7/7 [==============================] - 662s 93s/step - loss: 0.0904 - accuracy: 0.9627\n",
            "Epoch 9/10\n",
            "7/7 [==============================] - 662s 93s/step - loss: 0.0782 - accuracy: 0.9685\n",
            "Epoch 10/10\n",
            "7/7 [==============================] - 672s 95s/step - loss: 0.1543 - accuracy: 0.9342\n"
          ]
        },
        {
          "output_type": "execute_result",
          "data": {
            "text/plain": [
              "<keras.src.callbacks.History at 0x7f7f74299ff0>"
            ]
          },
          "metadata": {},
          "execution_count": 7
        }
      ],
      "source": [
        "model.fit(x_train, y_train, epochs=10, batch_size=16)"
      ]
    },
    {
      "cell_type": "code",
      "execution_count": 8,
      "metadata": {
        "id": "r9-ipJqwWSOB"
      },
      "outputs": [],
      "source": [
        "new_image = np.random.rand(1, 256, 256, 3)"
      ]
    },
    {
      "cell_type": "code",
      "execution_count": 9,
      "metadata": {
        "id": "cP8eGO4OWW1i",
        "colab": {
          "base_uri": "https://localhost:8080/"
        },
        "outputId": "7aa26bad-f9c3-4c0e-c073-fa08ac05fb97"
      },
      "outputs": [
        {
          "output_type": "stream",
          "name": "stdout",
          "text": [
            "1/1 [==============================] - 2s 2s/step\n"
          ]
        }
      ],
      "source": [
        "predictions = model.predict(new_image)"
      ]
    },
    {
      "cell_type": "code",
      "execution_count": 10,
      "metadata": {
        "id": "jisCzqXLWYct",
        "colab": {
          "base_uri": "https://localhost:8080/"
        },
        "outputId": "0d8b2081-a7f4-4352-87fb-53506bf09252"
      },
      "outputs": [
        {
          "output_type": "stream",
          "name": "stdout",
          "text": [
            "[[[[0.5913353  0.48430542 0.97278827]\n",
            "   [0.30369811 0.12285115 0.86421584]\n",
            "   [0.62657885 0.77892585 0.28458983]\n",
            "   ...\n",
            "   [0.9964885  0.96854095 0.83609584]\n",
            "   [0.01798325 0.76837449 0.47409125]\n",
            "   [0.04526025 0.9636595  0.69763347]]\n",
            "\n",
            "  [[0.41536611 0.20980208 0.82788207]\n",
            "   [0.7129057  0.74466776 0.78282083]\n",
            "   [0.47516213 0.27501827 0.85964017]\n",
            "   ...\n",
            "   [0.03433484 0.72382351 0.97266697]\n",
            "   [0.01166037 0.62637526 0.08004548]\n",
            "   [0.68792633 0.4550195  0.57716101]]\n",
            "\n",
            "  [[0.64953038 0.11261509 0.40806719]\n",
            "   [0.00330702 0.72933671 0.3662195 ]\n",
            "   [0.38338745 0.40564342 0.87368549]\n",
            "   ...\n",
            "   [0.31567107 0.97675922 0.3649939 ]\n",
            "   [0.03693257 0.93322284 0.6641617 ]\n",
            "   [0.42890582 0.24214514 0.83257257]]\n",
            "\n",
            "  ...\n",
            "\n",
            "  [[0.45034227 0.45045544 0.15898564]\n",
            "   [0.85893293 0.70868692 0.93211229]\n",
            "   [0.59499423 0.48479865 0.64308001]\n",
            "   ...\n",
            "   [0.81442752 0.87318521 0.09812909]\n",
            "   [0.63185218 0.15407205 0.64000853]\n",
            "   [0.21105676 0.92940217 0.1530463 ]]\n",
            "\n",
            "  [[0.6733869  0.16423742 0.44474578]\n",
            "   [0.01141883 0.69627091 0.02275816]\n",
            "   [0.95415557 0.11092606 0.5377266 ]\n",
            "   ...\n",
            "   [0.42668341 0.58610875 0.7119188 ]\n",
            "   [0.68405231 0.43540212 0.22504769]\n",
            "   [0.81659877 0.15319272 0.36637343]]\n",
            "\n",
            "  [[0.53247723 0.10627802 0.36386957]\n",
            "   [0.57052103 0.01289792 0.89882338]\n",
            "   [0.33259962 0.66305616 0.17116696]\n",
            "   ...\n",
            "   [0.45760182 0.70428215 0.22028845]\n",
            "   [0.58718261 0.53378049 0.16019402]\n",
            "   [0.53926249 0.80199034 0.43728052]]]]\n"
          ]
        }
      ],
      "source": [
        "print(new_image)"
      ]
    },
    {
      "cell_type": "code",
      "execution_count": null,
      "metadata": {
        "colab": {
          "base_uri": "https://localhost:8080/"
        },
        "id": "S7uGsIUD2Et4",
        "outputId": "65ba4dfa-62c5-47da-a16c-c2eb8fa6160e"
      },
      "outputs": [
        {
          "name": "stdout",
          "output_type": "stream",
          "text": [
            "Epoch 1/10\n",
            "7/7 [==============================] - 421s 58s/step - loss: 0.6690 - accuracy: 0.6709\n",
            "Epoch 2/10\n",
            "7/7 [==============================] - 408s 57s/step - loss: 0.5271 - accuracy: 0.8256\n",
            "Epoch 3/10\n",
            "7/7 [==============================] - 407s 57s/step - loss: 0.3254 - accuracy: 0.8880\n",
            "Epoch 4/10\n",
            "7/7 [==============================] - 408s 57s/step - loss: 0.1958 - accuracy: 0.9244\n",
            "Epoch 5/10\n",
            "7/7 [==============================] - 408s 57s/step - loss: 0.1474 - accuracy: 0.9376\n",
            "Epoch 6/10\n",
            "7/7 [==============================] - 408s 57s/step - loss: 0.1236 - accuracy: 0.9465\n",
            "Epoch 7/10\n",
            "7/7 [==============================] - 407s 57s/step - loss: 0.0982 - accuracy: 0.9591\n",
            "Epoch 8/10\n",
            "7/7 [==============================] - 408s 57s/step - loss: 0.1156 - accuracy: 0.9486\n",
            "Epoch 9/10\n",
            "7/7 [==============================] - 407s 57s/step - loss: 0.0908 - accuracy: 0.9614\n",
            "Epoch 10/10\n",
            "7/7 [==============================] - 408s 57s/step - loss: 0.0784 - accuracy: 0.9676\n",
            "1/1 [==============================] - 1s 1s/step\n",
            "[[[[0.80614845 0.00263867 0.64478662]\n",
            "   [0.97283788 0.026623   0.19427892]\n",
            "   [0.76272902 0.33117944 0.13711604]\n",
            "   ...\n",
            "   [0.48265703 0.88035309 0.94946616]\n",
            "   [0.1515169  0.27840248 0.42102859]\n",
            "   [0.35632212 0.71553628 0.23745755]]\n",
            "\n",
            "  [[0.57153456 0.48210206 0.99612596]\n",
            "   [0.71670554 0.45816782 0.89770748]\n",
            "   [0.41110574 0.74694111 0.69571066]\n",
            "   ...\n",
            "   [0.79607941 0.78734962 0.02528992]\n",
            "   [0.18031967 0.78576688 0.18933493]\n",
            "   [0.85025722 0.73647563 0.18933971]]\n",
            "\n",
            "  [[0.82989333 0.70155284 0.56191792]\n",
            "   [0.56819123 0.52484796 0.97955631]\n",
            "   [0.31462549 0.33398389 0.68289152]\n",
            "   ...\n",
            "   [0.63511457 0.04218297 0.02497873]\n",
            "   [0.05929437 0.45465753 0.00879461]\n",
            "   [0.02049642 0.97407431 0.27625136]]\n",
            "\n",
            "  ...\n",
            "\n",
            "  [[0.74077326 0.15024243 0.05254695]\n",
            "   [0.68422023 0.4981703  0.63404863]\n",
            "   [0.96992413 0.81147034 0.13538128]\n",
            "   ...\n",
            "   [0.6662652  0.37675389 0.71535756]\n",
            "   [0.91402867 0.14343314 0.50679645]\n",
            "   [0.26864276 0.98821543 0.07719584]]\n",
            "\n",
            "  [[0.0581705  0.14147168 0.46378498]\n",
            "   [0.75348649 0.50809416 0.78030861]\n",
            "   [0.30157132 0.49342928 0.1674427 ]\n",
            "   ...\n",
            "   [0.00150904 0.47847248 0.15588444]\n",
            "   [0.68063895 0.3957133  0.5629299 ]\n",
            "   [0.0380216  0.16902287 0.63928191]]\n",
            "\n",
            "  [[0.16019561 0.1098182  0.92925743]\n",
            "   [0.40127254 0.52070322 0.49220015]\n",
            "   [0.2816224  0.19906958 0.582936  ]\n",
            "   ...\n",
            "   [0.66121903 0.63111843 0.86657766]\n",
            "   [0.27588969 0.37493445 0.99167195]\n",
            "   [0.10193653 0.62486033 0.97072895]]]]\n"
          ]
        }
      ],
      "source": [
        "\n",
        "\n",
        "\n",
        "print(new_image)\n"
      ]
    },
    {
      "cell_type": "code",
      "execution_count": null,
      "metadata": {
        "id": "OPz6Hsh-ZYpO"
      },
      "outputs": [],
      "source": []
    }
  ],
  "metadata": {
    "colab": {
      "provenance": [],
      "authorship_tag": "ABX9TyMOj7WqZFyOWm2xFjif3AOg",
      "include_colab_link": true
    },
    "kernelspec": {
      "display_name": "Python 3",
      "name": "python3"
    },
    "language_info": {
      "name": "python"
    }
  },
  "nbformat": 4,
  "nbformat_minor": 0
}